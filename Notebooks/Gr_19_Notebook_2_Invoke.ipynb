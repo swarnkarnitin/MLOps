{
  "nbformat": 4,
  "nbformat_minor": 0,
  "metadata": {
    "colab": {
      "provenance": []
    },
    "kernelspec": {
      "name": "python3",
      "display_name": "Python 3"
    },
    "language_info": {
      "name": "python"
    }
  },
  "cells": [
    {
      "cell_type": "markdown",
      "source": [
        "This Notebook is to prepare the input for prediction model and calling the public url created in previous notebook"
      ],
      "metadata": {
        "id": "uDyB3OWAMe_T"
      }
    },
    {
      "cell_type": "code",
      "execution_count": null,
      "metadata": {
        "id": "FVVxB4fxIMin"
      },
      "outputs": [],
      "source": [
        "import requests, json"
      ]
    },
    {
      "cell_type": "code",
      "source": [
        "data = \"\"\"{\"age\" : 30,\n",
        "          \"sex\": \"male\",\n",
        "          \"bmi\": 60,\n",
        "          \"children\": 2,\n",
        "          \"smoker\": \"yes\",\n",
        "          \"region\": \"southwest\"}\n",
        "         \"\"\""
      ],
      "metadata": {
        "id": "Kvy_8AkrIYuV"
      },
      "execution_count": null,
      "outputs": []
    },
    {
      "cell_type": "code",
      "source": [
        "json_data = data.replace('\\n', '').replace(' ','')"
      ],
      "metadata": {
        "id": "NX5mSIM-IqGN"
      },
      "execution_count": null,
      "outputs": []
    },
    {
      "cell_type": "code",
      "source": [
        "json_data"
      ],
      "metadata": {
        "colab": {
          "base_uri": "https://localhost:8080/",
          "height": 35
        },
        "id": "RWwtkqZ_IwvD",
        "outputId": "546fa810-9be7-4a73-a45b-b77a442338f3"
      },
      "execution_count": null,
      "outputs": [
        {
          "output_type": "execute_result",
          "data": {
            "text/plain": [
              "'{\"age\":30,\"sex\":\"male\",\"bmi\":60,\"children\":2,\"smoker\":\"yes\",\"region\":\"southwest\"}'"
            ],
            "application/vnd.google.colaboratory.intrinsic+json": {
              "type": "string"
            }
          },
          "metadata": {},
          "execution_count": 4
        }
      ]
    },
    {
      "cell_type": "markdown",
      "source": [
        "Preicting the Insurance price using the URL generated in previous step"
      ],
      "metadata": {
        "id": "IhpJ6tYOM1h_"
      }
    },
    {
      "cell_type": "code",
      "source": [
        "response = requests.post('https://c5bf-34-125-215-126.ngrok-free.app/predict', data=json_data)"
      ],
      "metadata": {
        "id": "JaLO8aOMIzdm"
      },
      "execution_count": null,
      "outputs": []
    },
    {
      "cell_type": "code",
      "source": [
        "print(response.json())"
      ],
      "metadata": {
        "colab": {
          "base_uri": "https://localhost:8080/"
        },
        "id": "VPdNweoFJBCP",
        "outputId": "78f74cbe-e258-46e8-c67e-16f12c14205a"
      },
      "execution_count": null,
      "outputs": [
        {
          "output_type": "stream",
          "name": "stdout",
          "text": [
            "['Estimated Insurance Premium: INR [39225.37] ']\n"
          ]
        }
      ]
    }
  ]
}