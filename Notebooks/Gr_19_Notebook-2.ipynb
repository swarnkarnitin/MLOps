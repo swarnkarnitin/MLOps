{
  "cells": [
    {
      "cell_type": "code",
      "execution_count": 2,
      "id": "b1753b9b-6e31-423f-b6ad-c2a7baf14857",
      "metadata": {
        "id": "b1753b9b-6e31-423f-b6ad-c2a7baf14857"
      },
      "outputs": [],
      "source": [
        "import os\n",
        "from google.colab import userdata"
      ]
    },
    {
      "cell_type": "code",
      "source": [
        "# !pip install fastapi\n",
        "# !pip install uvicorn\n",
        "# !pip install pyngrok"
      ],
      "metadata": {
        "colab": {
          "base_uri": "https://localhost:8080/"
        },
        "id": "pximt6w-_-hu",
        "outputId": "f54b2862-97a7-46e0-8148-69c6fb9afbda"
      },
      "id": "pximt6w-_-hu",
      "execution_count": 11,
      "outputs": [
        {
          "output_type": "stream",
          "name": "stdout",
          "text": [
            "Collecting fastapi\n",
            "  Downloading fastapi-0.115.6-py3-none-any.whl.metadata (27 kB)\n",
            "Collecting starlette<0.42.0,>=0.40.0 (from fastapi)\n",
            "  Downloading starlette-0.41.3-py3-none-any.whl.metadata (6.0 kB)\n",
            "Requirement already satisfied: pydantic!=1.8,!=1.8.1,!=2.0.0,!=2.0.1,!=2.1.0,<3.0.0,>=1.7.4 in /usr/local/lib/python3.10/dist-packages (from fastapi) (2.10.3)\n",
            "Requirement already satisfied: typing-extensions>=4.8.0 in /usr/local/lib/python3.10/dist-packages (from fastapi) (4.12.2)\n",
            "Requirement already satisfied: annotated-types>=0.6.0 in /usr/local/lib/python3.10/dist-packages (from pydantic!=1.8,!=1.8.1,!=2.0.0,!=2.0.1,!=2.1.0,<3.0.0,>=1.7.4->fastapi) (0.7.0)\n",
            "Requirement already satisfied: pydantic-core==2.27.1 in /usr/local/lib/python3.10/dist-packages (from pydantic!=1.8,!=1.8.1,!=2.0.0,!=2.0.1,!=2.1.0,<3.0.0,>=1.7.4->fastapi) (2.27.1)\n",
            "Requirement already satisfied: anyio<5,>=3.4.0 in /usr/local/lib/python3.10/dist-packages (from starlette<0.42.0,>=0.40.0->fastapi) (3.7.1)\n",
            "Requirement already satisfied: idna>=2.8 in /usr/local/lib/python3.10/dist-packages (from anyio<5,>=3.4.0->starlette<0.42.0,>=0.40.0->fastapi) (3.10)\n",
            "Requirement already satisfied: sniffio>=1.1 in /usr/local/lib/python3.10/dist-packages (from anyio<5,>=3.4.0->starlette<0.42.0,>=0.40.0->fastapi) (1.3.1)\n",
            "Requirement already satisfied: exceptiongroup in /usr/local/lib/python3.10/dist-packages (from anyio<5,>=3.4.0->starlette<0.42.0,>=0.40.0->fastapi) (1.2.2)\n",
            "Downloading fastapi-0.115.6-py3-none-any.whl (94 kB)\n",
            "\u001b[2K   \u001b[90m━━━━━━━━━━━━━━━━━━━━━━━━━━━━━━━━━━━━━━━━\u001b[0m \u001b[32m94.8/94.8 kB\u001b[0m \u001b[31m7.7 MB/s\u001b[0m eta \u001b[36m0:00:00\u001b[0m\n",
            "\u001b[?25hDownloading starlette-0.41.3-py3-none-any.whl (73 kB)\n",
            "\u001b[2K   \u001b[90m━━━━━━━━━━━━━━━━━━━━━━━━━━━━━━━━━━━━━━━━\u001b[0m \u001b[32m73.2/73.2 kB\u001b[0m \u001b[31m6.3 MB/s\u001b[0m eta \u001b[36m0:00:00\u001b[0m\n",
            "\u001b[?25hInstalling collected packages: starlette, fastapi\n",
            "Successfully installed fastapi-0.115.6 starlette-0.41.3\n",
            "Collecting uvicorn\n",
            "  Downloading uvicorn-0.33.0-py3-none-any.whl.metadata (6.6 kB)\n",
            "Requirement already satisfied: click>=7.0 in /usr/local/lib/python3.10/dist-packages (from uvicorn) (8.1.7)\n",
            "Requirement already satisfied: h11>=0.8 in /usr/local/lib/python3.10/dist-packages (from uvicorn) (0.14.0)\n",
            "Requirement already satisfied: typing-extensions>=4.0 in /usr/local/lib/python3.10/dist-packages (from uvicorn) (4.12.2)\n",
            "Downloading uvicorn-0.33.0-py3-none-any.whl (62 kB)\n",
            "\u001b[2K   \u001b[90m━━━━━━━━━━━━━━━━━━━━━━━━━━━━━━━━━━━━━━━━\u001b[0m \u001b[32m62.3/62.3 kB\u001b[0m \u001b[31m4.9 MB/s\u001b[0m eta \u001b[36m0:00:00\u001b[0m\n",
            "\u001b[?25hInstalling collected packages: uvicorn\n",
            "Successfully installed uvicorn-0.33.0\n",
            "Collecting pyngrok\n",
            "  Downloading pyngrok-7.2.2-py3-none-any.whl.metadata (8.4 kB)\n",
            "Requirement already satisfied: PyYAML>=5.1 in /usr/local/lib/python3.10/dist-packages (from pyngrok) (6.0.2)\n",
            "Downloading pyngrok-7.2.2-py3-none-any.whl (22 kB)\n",
            "Installing collected packages: pyngrok\n",
            "Successfully installed pyngrok-7.2.2\n"
          ]
        }
      ]
    },
    {
      "cell_type": "code",
      "source": [],
      "metadata": {
        "id": "i-XuLG1rG5N3"
      },
      "id": "i-XuLG1rG5N3",
      "execution_count": null,
      "outputs": []
    },
    {
      "cell_type": "code",
      "execution_count": null,
      "id": "4df11d2a-e290-4ff8-9a62-8ea22ac2bba6",
      "metadata": {
        "id": "4df11d2a-e290-4ff8-9a62-8ea22ac2bba6"
      },
      "outputs": [],
      "source": [
        "#mlflow server --host 127.0.0.1 --port 8080"
      ]
    },
    {
      "cell_type": "code",
      "execution_count": 12,
      "id": "faf80329-c74a-4700-978d-45fce3935275",
      "metadata": {
        "id": "faf80329-c74a-4700-978d-45fce3935275"
      },
      "outputs": [],
      "source": [
        "# Reading WANDB key from colab secrets\n",
        "\n",
        "os.environ[\"WANDB_API_KEY\"] = userdata.get('WANDB_API_KEY')\n",
        "ngrok_token = userdata.get('NGROK_AUTH')\n",
        "# print(os.environ[\"WANDB_API_KEY\"])\n",
        "# print(userdata.get('NGROK_AUTH'))\n"
      ]
    },
    {
      "cell_type": "code",
      "source": [
        "\n",
        "!ngrok authtoken ngrok_token"
      ],
      "metadata": {
        "colab": {
          "base_uri": "https://localhost:8080/"
        },
        "id": "YBvfKk4RGufC",
        "outputId": "ee05471c-9b49-4e1a-daaa-b3b14b16adda"
      },
      "id": "YBvfKk4RGufC",
      "execution_count": 13,
      "outputs": [
        {
          "output_type": "stream",
          "name": "stdout",
          "text": [
            "Authtoken saved to configuration file: /root/.config/ngrok/ngrok.yml\n"
          ]
        }
      ]
    },
    {
      "cell_type": "markdown",
      "source": [
        "Creating App python file which has two Main components.\n",
        "1. It will fetch the latest Model from Weights& Bias reprository.\n",
        "2. Create an endspoint with predict function on the model"
      ],
      "metadata": {
        "id": "ydHlczr2JxNa"
      },
      "id": "ydHlczr2JxNa"
    },
    {
      "cell_type": "raw",
      "id": "3e94a738-fea1-4ca8-80a1-af69cfe7785b",
      "metadata": {
        "id": "3e94a738-fea1-4ca8-80a1-af69cfe7785b"
      },
      "source": [
        "nitin_swarnkar_ampba2025s-isb/mlops_insurance_price/Linear_Model_Insruance_Price2:v0\n",
        "https://api.wandb.ai/artifactsV2/default/nitin_swarnkar_ampba2025s-isb/QXJ0aWZhY3Q6MTM2OTYxOTkyMA%3D%3D/f482e70df10aedbc14cb2c549763c963/insurance.pkl?_gl=1*9uputm*_gcl_au*MTUxNDI3MDE4MC4xNzMxNjg2NDUz"
      ]
    },
    {
      "cell_type": "code",
      "execution_count": 38,
      "id": "c194295d-2f95-4860-84c6-ebf49ec06aa2",
      "metadata": {
        "colab": {
          "base_uri": "https://localhost:8080/"
        },
        "id": "c194295d-2f95-4860-84c6-ebf49ec06aa2",
        "outputId": "7b52fd4a-0d3b-49ed-c7c3-690169e7479e"
      },
      "outputs": [
        {
          "output_type": "stream",
          "name": "stdout",
          "text": [
            "Overwriting app.py\n"
          ]
        }
      ],
      "source": [
        "%%writefile app.py\n",
        "\n",
        "import os\n",
        "import wandb\n",
        "import sklearn\n",
        "from joblib import load\n",
        "from fastapi import FastAPI, HTTPException\n",
        "from contextlib import asynccontextmanager\n",
        "from pydantic import BaseModel\n",
        "import wandb\n",
        "import joblib\n",
        "import pandas as pd\n",
        "import numpy as np\n",
        "\n",
        "app = FastAPI()\n",
        "\n",
        "# Define input data schema\n",
        "class PredictionRequest(BaseModel):\n",
        "    age: int\n",
        "    sex: str\n",
        "    bmi: int\n",
        "    children: int\n",
        "    smoker: str\n",
        "    region: str\n",
        "\n",
        "# Load the model from WandB\n",
        "def load_model_from_wandb(project_name: str, artifact_name: str):\n",
        "    try:\n",
        "        # Initialize WandB\n",
        "        run = wandb.init(project=project_name, job_type=\"inference\", reinit=True)\n",
        "        artifact = run.use_artifact(artifact_name)\n",
        "        model_path = artifact.file()  # Assumes a single model file in the artifact\n",
        "        model = joblib.load(model_path)\n",
        "        # datadir = artifact.download()\n",
        "        # pths = datadir + '\\\\insurance.pkl'\n",
        "        # model = joblib.load(model)\n",
        "        run.finish()  # End the WandB run\n",
        "        return model\n",
        "    except Exception as e:\n",
        "        raise RuntimeError(f\"Failed to load model: {e}\")\n",
        "\n",
        "\n",
        "\n",
        "project_name = \"mlops_insurance_price\"  # Replace with your project name\n",
        "artifact_name = \"Linear_Model_Insruance_Price2:latest\"  # Replace with your artifact name\n",
        "# artifact_name = \"Linear_Model_Insruance_Price2:v0\"  # Replace with your artifact name\n",
        "\n",
        "ml_model = load_model_from_wandb(project_name, artifact_name)\n",
        "\n",
        "# Prediction endpoint\n",
        "@app.post(\"/predict\")\n",
        "def predict(input_data: PredictionRequest):\n",
        "    try:\n",
        "        # Convert input data to a dictionary for prediction\n",
        "        input_dict = input_data.dict()\n",
        "\n",
        "        df = pd.DataFrame(input_dict, index = [0])\n",
        "\n",
        "        # Call the model's prediction method\n",
        "        prediction = ml_model.predict(df)\n",
        "\n",
        "        # Return the prediction result\n",
        "        return {f\"Estimated Insurance Premium: INR {np.round(prediction[0], 2)} \"}\n",
        "\n",
        "    except Exception as e:\n",
        "        raise HTTPException(status_code=500, detail=f\"Prediction error: {e}\")\n"
      ]
    },
    {
      "cell_type": "markdown",
      "source": [
        "Running uvocorn web server in the backend on loacal host and 8000 port"
      ],
      "metadata": {
        "id": "MwptoFz7Leui"
      },
      "id": "MwptoFz7Leui"
    },
    {
      "cell_type": "code",
      "execution_count": 39,
      "id": "41a95ba0-8786-4a4d-86e6-008828183696",
      "metadata": {
        "colab": {
          "base_uri": "https://localhost:8080/"
        },
        "id": "41a95ba0-8786-4a4d-86e6-008828183696",
        "outputId": "51a0a3cf-ad6e-4a96-adc9-6a5ab5d14e31"
      },
      "outputs": [
        {
          "output_type": "stream",
          "name": "stdout",
          "text": [
            "nohup: appending output to 'nohup.out'\n"
          ]
        }
      ],
      "source": [
        "!nohup uvicorn app:app --host 0.0.0.0 --port 8000 &"
      ]
    },
    {
      "cell_type": "markdown",
      "source": [
        "Checking the uvicorn command logs"
      ],
      "metadata": {
        "id": "BxbdSJQnL1J9"
      },
      "id": "BxbdSJQnL1J9"
    },
    {
      "cell_type": "code",
      "source": [
        "!tail nohup.out"
      ],
      "metadata": {
        "colab": {
          "base_uri": "https://localhost:8080/"
        },
        "id": "caIGhbj4ESNL",
        "outputId": "d2bfc963-6e6d-416b-d6b4-6e0f5a16a57e"
      },
      "id": "caIGhbj4ESNL",
      "execution_count": 34,
      "outputs": [
        {
          "output_type": "stream",
          "name": "stdout",
          "text": [
            "\u001b[1;34mwandb\u001b[0m: 🚀 View run \u001b[33mjumping-dragon-25\u001b[0m at: \u001b[34mhttps://wandb.ai/nitin_swarnkar_ampba2025s-isb/mlops_insurance_price/runs/4aofl5ba\u001b[0m\n",
            "\u001b[1;34mwandb\u001b[0m: Find logs at: \u001b[1;35mwandb/run-20241215_065146-4aofl5ba/logs\u001b[0m\n",
            "wandb: Using wandb-core as the SDK backend.  Please refer to https://wandb.me/wandb-core for more information.\n",
            "wandb: Currently logged in as: nitin_swarnkar_ampba2025s (nitin_swarnkar_ampba2025s-isb). Use `wandb login --relogin` to force relogin\n",
            "wandb: Tracking run with wandb version 0.18.7\n",
            "wandb: Run data is saved locally in /content/wandb/run-20241215_065222-wts9fa3y\n",
            "wandb: Run `wandb offline` to turn off syncing.\n",
            "wandb: Syncing run apricot-haze-26\n",
            "wandb: ⭐️ View project at https://wandb.ai/nitin_swarnkar_ampba2025s-isb/mlops_insurance_price\n",
            "wandb: 🚀 View run at https://wandb.ai/nitin_swarnkar_ampba2025s-isb/mlops_insurance_price/runs/wts9fa3y\n"
          ]
        }
      ]
    },
    {
      "cell_type": "markdown",
      "source": [
        "Checking if uvicorn server is running"
      ],
      "metadata": {
        "id": "KOGl4HMmMEFe"
      },
      "id": "KOGl4HMmMEFe"
    },
    {
      "cell_type": "code",
      "source": [
        "!ps -ax | grep uvicorn"
      ],
      "metadata": {
        "colab": {
          "base_uri": "https://localhost:8080/"
        },
        "id": "POaDO_cbA-Wg",
        "outputId": "07bf7637-c5b9-46e4-d60a-f1c37e33017e"
      },
      "id": "POaDO_cbA-Wg",
      "execution_count": 47,
      "outputs": [
        {
          "output_type": "stream",
          "name": "stdout",
          "text": [
            "   8628 ?        Sl     0:09 /usr/bin/python3 /usr/local/bin/uvicorn app:app --host 0.0.0.0 --port 8\n",
            "  20113 ?        S      0:00 /bin/bash -c ps -ax | grep uvicorn\n",
            "  20115 ?        S      0:00 grep uvicorn\n"
          ]
        }
      ]
    },
    {
      "cell_type": "markdown",
      "source": [
        "Creating tunnel using ngrok to expose local host url to be visible outside the Colab"
      ],
      "metadata": {
        "id": "lO5lIkJqMIip"
      },
      "id": "lO5lIkJqMIip"
    },
    {
      "cell_type": "code",
      "source": [
        "from pyngrok import ngrok\n",
        "\n",
        "# Expose the FastAPI app\n",
        "public_url = ngrok.connect(8000)\n",
        "print(f\"Public URL: {public_url}\")"
      ],
      "metadata": {
        "colab": {
          "base_uri": "https://localhost:8080/"
        },
        "id": "PhTyExlxHJAU",
        "outputId": "132ebee9-5b0c-43ab-f5d1-b988c3ec6b87"
      },
      "id": "PhTyExlxHJAU",
      "execution_count": 46,
      "outputs": [
        {
          "output_type": "stream",
          "name": "stdout",
          "text": [
            "Public URL: NgrokTunnel: \"https://c5bf-34-125-215-126.ngrok-free.app\" -> \"http://localhost:8000\"\n"
          ]
        }
      ]
    }
  ],
  "metadata": {
    "kernelspec": {
      "display_name": "Python 3 (ipykernel)",
      "language": "python",
      "name": "python3"
    },
    "language_info": {
      "codemirror_mode": {
        "name": "ipython",
        "version": 3
      },
      "file_extension": ".py",
      "mimetype": "text/x-python",
      "name": "python",
      "nbconvert_exporter": "python",
      "pygments_lexer": "ipython3",
      "version": "3.12.4"
    },
    "colab": {
      "provenance": []
    }
  },
  "nbformat": 4,
  "nbformat_minor": 5
}