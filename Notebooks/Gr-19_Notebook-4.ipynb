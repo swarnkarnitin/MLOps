{
 "cells": [
  {
   "cell_type": "code",
   "execution_count": 1,
   "id": "c91d8411-468d-4225-97df-aff58c6fa845",
   "metadata": {},
   "outputs": [
    {
     "name": "stdout",
     "output_type": "stream",
     "text": [
      "Requirement already satisfied: alibi in c:\\users\\sheetal\\anaconda3\\lib\\site-packages (0.9.6)\n",
      "Requirement already satisfied: alibi_detect in c:\\users\\sheetal\\anaconda3\\lib\\site-packages (0.12.0)\n",
      "Requirement already satisfied: numpy<2.0.0,>=1.16.2 in c:\\users\\sheetal\\anaconda3\\lib\\site-packages (from alibi) (1.26.4)\n",
      "Requirement already satisfied: pandas<3.0.0,>=1.0.0 in c:\\users\\sheetal\\anaconda3\\lib\\site-packages (from alibi) (2.2.2)\n",
      "Requirement already satisfied: scikit-learn<2.0.0,>=1.0.0 in c:\\users\\sheetal\\anaconda3\\lib\\site-packages (from alibi) (1.3.2)\n",
      "Requirement already satisfied: spacy<4.0.0,>=2.0.0 in c:\\users\\sheetal\\anaconda3\\lib\\site-packages (from spacy[lookups]<4.0.0,>=2.0.0->alibi) (3.7.5)\n",
      "Requirement already satisfied: blis<0.8.0 in c:\\users\\sheetal\\anaconda3\\lib\\site-packages (from alibi) (0.7.11)\n",
      "Requirement already satisfied: scikit-image<0.23,>=0.17.2 in c:\\users\\sheetal\\anaconda3\\lib\\site-packages (from alibi) (0.22.0)\n",
      "Requirement already satisfied: requests<3.0.0,>=2.21.0 in c:\\users\\sheetal\\anaconda3\\lib\\site-packages (from alibi) (2.32.2)\n",
      "Requirement already satisfied: Pillow<11.0,>=5.4.1 in c:\\users\\sheetal\\anaconda3\\lib\\site-packages (from alibi) (10.3.0)\n",
      "Requirement already satisfied: attrs<24.0.0,>=19.2.0 in c:\\users\\sheetal\\anaconda3\\lib\\site-packages (from alibi) (23.1.0)\n",
      "Requirement already satisfied: scipy<2.0.0,>=1.1.0 in c:\\users\\sheetal\\anaconda3\\lib\\site-packages (from alibi) (1.13.1)\n",
      "Requirement already satisfied: matplotlib<4.0.0,>=3.0.0 in c:\\users\\sheetal\\anaconda3\\lib\\site-packages (from alibi) (3.8.4)\n",
      "Requirement already satisfied: typing-extensions>=3.7.4.3 in c:\\users\\sheetal\\anaconda3\\lib\\site-packages (from alibi) (4.12.2)\n",
      "Requirement already satisfied: dill<0.4.0,>=0.3.0 in c:\\users\\sheetal\\anaconda3\\lib\\site-packages (from alibi) (0.3.8)\n",
      "Requirement already satisfied: transformers<5.0.0,>=4.7.0 in c:\\users\\sheetal\\anaconda3\\lib\\site-packages (from alibi) (4.47.0)\n",
      "Requirement already satisfied: tqdm<5.0.0,>=4.28.1 in c:\\users\\sheetal\\anaconda3\\lib\\site-packages (from alibi) (4.66.4)\n",
      "Requirement already satisfied: opencv-python<5.0.0,>=3.2.0 in c:\\users\\sheetal\\anaconda3\\lib\\site-packages (from alibi_detect) (4.10.0.84)\n",
      "Requirement already satisfied: pydantic<3.0.0,>=1.8.0 in c:\\users\\sheetal\\anaconda3\\lib\\site-packages (from alibi_detect) (2.10.3)\n",
      "Requirement already satisfied: toml<1.0.0,>=0.10.1 in c:\\users\\sheetal\\anaconda3\\lib\\site-packages (from alibi_detect) (0.10.2)\n",
      "Requirement already satisfied: catalogue<3.0.0,>=2.0.0 in c:\\users\\sheetal\\anaconda3\\lib\\site-packages (from alibi_detect) (2.0.10)\n",
      "Requirement already satisfied: numba!=0.54.0,<0.60.0,>=0.50.0 in c:\\users\\sheetal\\anaconda3\\lib\\site-packages (from alibi_detect) (0.59.1)\n",
      "Requirement already satisfied: contourpy>=1.0.1 in c:\\users\\sheetal\\anaconda3\\lib\\site-packages (from matplotlib<4.0.0,>=3.0.0->alibi) (1.2.0)\n",
      "Requirement already satisfied: cycler>=0.10 in c:\\users\\sheetal\\anaconda3\\lib\\site-packages (from matplotlib<4.0.0,>=3.0.0->alibi) (0.11.0)\n",
      "Requirement already satisfied: fonttools>=4.22.0 in c:\\users\\sheetal\\anaconda3\\lib\\site-packages (from matplotlib<4.0.0,>=3.0.0->alibi) (4.51.0)\n",
      "Requirement already satisfied: kiwisolver>=1.3.1 in c:\\users\\sheetal\\anaconda3\\lib\\site-packages (from matplotlib<4.0.0,>=3.0.0->alibi) (1.4.4)\n",
      "Requirement already satisfied: packaging>=20.0 in c:\\users\\sheetal\\anaconda3\\lib\\site-packages (from matplotlib<4.0.0,>=3.0.0->alibi) (23.2)\n",
      "Requirement already satisfied: pyparsing>=2.3.1 in c:\\users\\sheetal\\anaconda3\\lib\\site-packages (from matplotlib<4.0.0,>=3.0.0->alibi) (3.0.9)\n",
      "Requirement already satisfied: python-dateutil>=2.7 in c:\\users\\sheetal\\anaconda3\\lib\\site-packages (from matplotlib<4.0.0,>=3.0.0->alibi) (2.9.0.post0)\n",
      "Requirement already satisfied: llvmlite<0.43,>=0.42.0dev0 in c:\\users\\sheetal\\anaconda3\\lib\\site-packages (from numba!=0.54.0,<0.60.0,>=0.50.0->alibi_detect) (0.42.0)\n",
      "Requirement already satisfied: pytz>=2020.1 in c:\\users\\sheetal\\anaconda3\\lib\\site-packages (from pandas<3.0.0,>=1.0.0->alibi) (2024.1)\n",
      "Requirement already satisfied: tzdata>=2022.7 in c:\\users\\sheetal\\anaconda3\\lib\\site-packages (from pandas<3.0.0,>=1.0.0->alibi) (2023.3)\n",
      "Requirement already satisfied: annotated-types>=0.6.0 in c:\\users\\sheetal\\anaconda3\\lib\\site-packages (from pydantic<3.0.0,>=1.8.0->alibi_detect) (0.6.0)\n",
      "Requirement already satisfied: pydantic-core==2.27.1 in c:\\users\\sheetal\\anaconda3\\lib\\site-packages (from pydantic<3.0.0,>=1.8.0->alibi_detect) (2.27.1)\n",
      "Requirement already satisfied: charset-normalizer<4,>=2 in c:\\users\\sheetal\\anaconda3\\lib\\site-packages (from requests<3.0.0,>=2.21.0->alibi) (2.0.4)\n",
      "Requirement already satisfied: idna<4,>=2.5 in c:\\users\\sheetal\\anaconda3\\lib\\site-packages (from requests<3.0.0,>=2.21.0->alibi) (3.7)\n",
      "Requirement already satisfied: urllib3<3,>=1.21.1 in c:\\users\\sheetal\\anaconda3\\lib\\site-packages (from requests<3.0.0,>=2.21.0->alibi) (2.2.2)\n",
      "Requirement already satisfied: certifi>=2017.4.17 in c:\\users\\sheetal\\anaconda3\\lib\\site-packages (from requests<3.0.0,>=2.21.0->alibi) (2024.7.4)\n",
      "Requirement already satisfied: networkx>=2.8 in c:\\users\\sheetal\\anaconda3\\lib\\site-packages (from scikit-image<0.23,>=0.17.2->alibi) (3.2.1)\n",
      "Requirement already satisfied: imageio>=2.27 in c:\\users\\sheetal\\anaconda3\\lib\\site-packages (from scikit-image<0.23,>=0.17.2->alibi) (2.33.1)\n",
      "Requirement already satisfied: tifffile>=2022.8.12 in c:\\users\\sheetal\\anaconda3\\lib\\site-packages (from scikit-image<0.23,>=0.17.2->alibi) (2023.4.12)\n",
      "Requirement already satisfied: lazy_loader>=0.3 in c:\\users\\sheetal\\anaconda3\\lib\\site-packages (from scikit-image<0.23,>=0.17.2->alibi) (0.4)\n",
      "Requirement already satisfied: joblib>=1.1.1 in c:\\users\\sheetal\\anaconda3\\lib\\site-packages (from scikit-learn<2.0.0,>=1.0.0->alibi) (1.4.2)\n",
      "Requirement already satisfied: threadpoolctl>=2.0.0 in c:\\users\\sheetal\\anaconda3\\lib\\site-packages (from scikit-learn<2.0.0,>=1.0.0->alibi) (2.2.0)\n",
      "Requirement already satisfied: spacy-legacy<3.1.0,>=3.0.11 in c:\\users\\sheetal\\anaconda3\\lib\\site-packages (from spacy<4.0.0,>=2.0.0->spacy[lookups]<4.0.0,>=2.0.0->alibi) (3.0.12)\n",
      "Requirement already satisfied: spacy-loggers<2.0.0,>=1.0.0 in c:\\users\\sheetal\\anaconda3\\lib\\site-packages (from spacy<4.0.0,>=2.0.0->spacy[lookups]<4.0.0,>=2.0.0->alibi) (1.0.5)\n",
      "Requirement already satisfied: murmurhash<1.1.0,>=0.28.0 in c:\\users\\sheetal\\anaconda3\\lib\\site-packages (from spacy<4.0.0,>=2.0.0->spacy[lookups]<4.0.0,>=2.0.0->alibi) (1.0.11)\n",
      "Requirement already satisfied: cymem<2.1.0,>=2.0.2 in c:\\users\\sheetal\\anaconda3\\lib\\site-packages (from spacy<4.0.0,>=2.0.0->spacy[lookups]<4.0.0,>=2.0.0->alibi) (2.0.10)\n",
      "Requirement already satisfied: preshed<3.1.0,>=3.0.2 in c:\\users\\sheetal\\anaconda3\\lib\\site-packages (from spacy<4.0.0,>=2.0.0->spacy[lookups]<4.0.0,>=2.0.0->alibi) (3.0.9)\n",
      "Requirement already satisfied: thinc<8.3.0,>=8.2.2 in c:\\users\\sheetal\\anaconda3\\lib\\site-packages (from spacy<4.0.0,>=2.0.0->spacy[lookups]<4.0.0,>=2.0.0->alibi) (8.2.5)\n",
      "Requirement already satisfied: wasabi<1.2.0,>=0.9.1 in c:\\users\\sheetal\\anaconda3\\lib\\site-packages (from spacy<4.0.0,>=2.0.0->spacy[lookups]<4.0.0,>=2.0.0->alibi) (1.1.3)\n",
      "Requirement already satisfied: srsly<3.0.0,>=2.4.3 in c:\\users\\sheetal\\anaconda3\\lib\\site-packages (from spacy<4.0.0,>=2.0.0->spacy[lookups]<4.0.0,>=2.0.0->alibi) (2.5.0)\n",
      "Requirement already satisfied: weasel<0.5.0,>=0.1.0 in c:\\users\\sheetal\\anaconda3\\lib\\site-packages (from spacy<4.0.0,>=2.0.0->spacy[lookups]<4.0.0,>=2.0.0->alibi) (0.4.1)\n",
      "Requirement already satisfied: typer<1.0.0,>=0.3.0 in c:\\users\\sheetal\\anaconda3\\lib\\site-packages (from spacy<4.0.0,>=2.0.0->spacy[lookups]<4.0.0,>=2.0.0->alibi) (0.15.1)\n",
      "Requirement already satisfied: jinja2 in c:\\users\\sheetal\\anaconda3\\lib\\site-packages (from spacy<4.0.0,>=2.0.0->spacy[lookups]<4.0.0,>=2.0.0->alibi) (3.1.4)\n",
      "Requirement already satisfied: setuptools in c:\\users\\sheetal\\anaconda3\\lib\\site-packages (from spacy<4.0.0,>=2.0.0->spacy[lookups]<4.0.0,>=2.0.0->alibi) (69.5.1)\n",
      "Requirement already satisfied: langcodes<4.0.0,>=3.2.0 in c:\\users\\sheetal\\anaconda3\\lib\\site-packages (from spacy<4.0.0,>=2.0.0->spacy[lookups]<4.0.0,>=2.0.0->alibi) (3.5.0)\n",
      "Requirement already satisfied: spacy-lookups-data<1.1.0,>=1.0.3 in c:\\users\\sheetal\\anaconda3\\lib\\site-packages (from spacy[lookups]<4.0.0,>=2.0.0->alibi) (1.0.5)\n",
      "Requirement already satisfied: colorama in c:\\users\\sheetal\\anaconda3\\lib\\site-packages (from tqdm<5.0.0,>=4.28.1->alibi) (0.4.6)\n",
      "Requirement already satisfied: filelock in c:\\users\\sheetal\\anaconda3\\lib\\site-packages (from transformers<5.0.0,>=4.7.0->alibi) (3.13.1)\n",
      "Requirement already satisfied: huggingface-hub<1.0,>=0.24.0 in c:\\users\\sheetal\\anaconda3\\lib\\site-packages (from transformers<5.0.0,>=4.7.0->alibi) (0.26.5)\n",
      "Requirement already satisfied: pyyaml>=5.1 in c:\\users\\sheetal\\anaconda3\\lib\\site-packages (from transformers<5.0.0,>=4.7.0->alibi) (6.0.1)\n",
      "Requirement already satisfied: regex!=2019.12.17 in c:\\users\\sheetal\\anaconda3\\lib\\site-packages (from transformers<5.0.0,>=4.7.0->alibi) (2023.10.3)\n",
      "Requirement already satisfied: tokenizers<0.22,>=0.21 in c:\\users\\sheetal\\anaconda3\\lib\\site-packages (from transformers<5.0.0,>=4.7.0->alibi) (0.21.0)\n",
      "Requirement already satisfied: safetensors>=0.4.1 in c:\\users\\sheetal\\anaconda3\\lib\\site-packages (from transformers<5.0.0,>=4.7.0->alibi) (0.4.5)\n",
      "Requirement already satisfied: fsspec>=2023.5.0 in c:\\users\\sheetal\\anaconda3\\lib\\site-packages (from huggingface-hub<1.0,>=0.24.0->transformers<5.0.0,>=4.7.0->alibi) (2024.3.1)\n",
      "Requirement already satisfied: language-data>=1.2 in c:\\users\\sheetal\\anaconda3\\lib\\site-packages (from langcodes<4.0.0,>=3.2.0->spacy<4.0.0,>=2.0.0->spacy[lookups]<4.0.0,>=2.0.0->alibi) (1.3.0)\n",
      "Requirement already satisfied: six>=1.5 in c:\\users\\sheetal\\anaconda3\\lib\\site-packages (from python-dateutil>=2.7->matplotlib<4.0.0,>=3.0.0->alibi) (1.16.0)\n",
      "Requirement already satisfied: confection<1.0.0,>=0.0.1 in c:\\users\\sheetal\\anaconda3\\lib\\site-packages (from thinc<8.3.0,>=8.2.2->spacy<4.0.0,>=2.0.0->spacy[lookups]<4.0.0,>=2.0.0->alibi) (0.1.5)\n",
      "Requirement already satisfied: click>=8.0.0 in c:\\users\\sheetal\\anaconda3\\lib\\site-packages (from typer<1.0.0,>=0.3.0->spacy<4.0.0,>=2.0.0->spacy[lookups]<4.0.0,>=2.0.0->alibi) (8.1.7)\n",
      "Requirement already satisfied: shellingham>=1.3.0 in c:\\users\\sheetal\\anaconda3\\lib\\site-packages (from typer<1.0.0,>=0.3.0->spacy<4.0.0,>=2.0.0->spacy[lookups]<4.0.0,>=2.0.0->alibi) (1.5.4)\n",
      "Requirement already satisfied: rich>=10.11.0 in c:\\users\\sheetal\\anaconda3\\lib\\site-packages (from typer<1.0.0,>=0.3.0->spacy<4.0.0,>=2.0.0->spacy[lookups]<4.0.0,>=2.0.0->alibi) (13.3.5)\n",
      "Requirement already satisfied: cloudpathlib<1.0.0,>=0.7.0 in c:\\users\\sheetal\\anaconda3\\lib\\site-packages (from weasel<0.5.0,>=0.1.0->spacy<4.0.0,>=2.0.0->spacy[lookups]<4.0.0,>=2.0.0->alibi) (0.20.0)\n",
      "Requirement already satisfied: smart-open<8.0.0,>=5.2.1 in c:\\users\\sheetal\\anaconda3\\lib\\site-packages (from weasel<0.5.0,>=0.1.0->spacy<4.0.0,>=2.0.0->spacy[lookups]<4.0.0,>=2.0.0->alibi) (5.2.1)\n",
      "Requirement already satisfied: MarkupSafe>=2.0 in c:\\users\\sheetal\\anaconda3\\lib\\site-packages (from jinja2->spacy<4.0.0,>=2.0.0->spacy[lookups]<4.0.0,>=2.0.0->alibi) (2.1.3)\n",
      "Requirement already satisfied: marisa-trie>=1.1.0 in c:\\users\\sheetal\\anaconda3\\lib\\site-packages (from language-data>=1.2->langcodes<4.0.0,>=3.2.0->spacy<4.0.0,>=2.0.0->spacy[lookups]<4.0.0,>=2.0.0->alibi) (1.2.1)\n",
      "Requirement already satisfied: markdown-it-py<3.0.0,>=2.2.0 in c:\\users\\sheetal\\anaconda3\\lib\\site-packages (from rich>=10.11.0->typer<1.0.0,>=0.3.0->spacy<4.0.0,>=2.0.0->spacy[lookups]<4.0.0,>=2.0.0->alibi) (2.2.0)\n",
      "Requirement already satisfied: pygments<3.0.0,>=2.13.0 in c:\\users\\sheetal\\anaconda3\\lib\\site-packages (from rich>=10.11.0->typer<1.0.0,>=0.3.0->spacy<4.0.0,>=2.0.0->spacy[lookups]<4.0.0,>=2.0.0->alibi) (2.15.1)\n",
      "Requirement already satisfied: mdurl~=0.1 in c:\\users\\sheetal\\anaconda3\\lib\\site-packages (from markdown-it-py<3.0.0,>=2.2.0->rich>=10.11.0->typer<1.0.0,>=0.3.0->spacy<4.0.0,>=2.0.0->spacy[lookups]<4.0.0,>=2.0.0->alibi) (0.1.0)\n"
     ]
    }
   ],
   "source": [
    "# !pip install alibi alibi_detect"
   ]
  },
  {
   "cell_type": "code",
   "execution_count": 7,
   "id": "42a717ae-7b1c-44ed-a6c6-c60a3a87334b",
   "metadata": {},
   "outputs": [
    {
     "name": "stdout",
     "output_type": "stream",
     "text": [
      "Collecting tf_keras\n",
      "  Downloading tf_keras-2.18.0-py3-none-any.whl.metadata (1.6 kB)\n",
      "Requirement already satisfied: tensorflow<2.19,>=2.18 in c:\\users\\sheetal\\anaconda3\\lib\\site-packages (from tf_keras) (2.18.0)\n",
      "Requirement already satisfied: tensorflow-intel==2.18.0 in c:\\users\\sheetal\\anaconda3\\lib\\site-packages (from tensorflow<2.19,>=2.18->tf_keras) (2.18.0)\n",
      "Requirement already satisfied: absl-py>=1.0.0 in c:\\users\\sheetal\\anaconda3\\lib\\site-packages (from tensorflow-intel==2.18.0->tensorflow<2.19,>=2.18->tf_keras) (2.1.0)\n",
      "Requirement already satisfied: astunparse>=1.6.0 in c:\\users\\sheetal\\anaconda3\\lib\\site-packages (from tensorflow-intel==2.18.0->tensorflow<2.19,>=2.18->tf_keras) (1.6.3)\n",
      "Requirement already satisfied: flatbuffers>=24.3.25 in c:\\users\\sheetal\\anaconda3\\lib\\site-packages (from tensorflow-intel==2.18.0->tensorflow<2.19,>=2.18->tf_keras) (24.3.25)\n",
      "Requirement already satisfied: gast!=0.5.0,!=0.5.1,!=0.5.2,>=0.2.1 in c:\\users\\sheetal\\anaconda3\\lib\\site-packages (from tensorflow-intel==2.18.0->tensorflow<2.19,>=2.18->tf_keras) (0.6.0)\n",
      "Requirement already satisfied: google-pasta>=0.1.1 in c:\\users\\sheetal\\anaconda3\\lib\\site-packages (from tensorflow-intel==2.18.0->tensorflow<2.19,>=2.18->tf_keras) (0.2.0)\n",
      "Requirement already satisfied: libclang>=13.0.0 in c:\\users\\sheetal\\anaconda3\\lib\\site-packages (from tensorflow-intel==2.18.0->tensorflow<2.19,>=2.18->tf_keras) (18.1.1)\n",
      "Requirement already satisfied: opt-einsum>=2.3.2 in c:\\users\\sheetal\\anaconda3\\lib\\site-packages (from tensorflow-intel==2.18.0->tensorflow<2.19,>=2.18->tf_keras) (3.4.0)\n",
      "Requirement already satisfied: packaging in c:\\users\\sheetal\\anaconda3\\lib\\site-packages (from tensorflow-intel==2.18.0->tensorflow<2.19,>=2.18->tf_keras) (23.2)\n",
      "Requirement already satisfied: protobuf!=4.21.0,!=4.21.1,!=4.21.2,!=4.21.3,!=4.21.4,!=4.21.5,<6.0.0dev,>=3.20.3 in c:\\users\\sheetal\\anaconda3\\lib\\site-packages (from tensorflow-intel==2.18.0->tensorflow<2.19,>=2.18->tf_keras) (3.20.3)\n",
      "Requirement already satisfied: requests<3,>=2.21.0 in c:\\users\\sheetal\\anaconda3\\lib\\site-packages (from tensorflow-intel==2.18.0->tensorflow<2.19,>=2.18->tf_keras) (2.32.2)\n",
      "Requirement already satisfied: setuptools in c:\\users\\sheetal\\anaconda3\\lib\\site-packages (from tensorflow-intel==2.18.0->tensorflow<2.19,>=2.18->tf_keras) (69.5.1)\n",
      "Requirement already satisfied: six>=1.12.0 in c:\\users\\sheetal\\anaconda3\\lib\\site-packages (from tensorflow-intel==2.18.0->tensorflow<2.19,>=2.18->tf_keras) (1.16.0)\n",
      "Requirement already satisfied: termcolor>=1.1.0 in c:\\users\\sheetal\\anaconda3\\lib\\site-packages (from tensorflow-intel==2.18.0->tensorflow<2.19,>=2.18->tf_keras) (2.5.0)\n",
      "Requirement already satisfied: typing-extensions>=3.6.6 in c:\\users\\sheetal\\anaconda3\\lib\\site-packages (from tensorflow-intel==2.18.0->tensorflow<2.19,>=2.18->tf_keras) (4.12.2)\n",
      "Requirement already satisfied: wrapt>=1.11.0 in c:\\users\\sheetal\\anaconda3\\lib\\site-packages (from tensorflow-intel==2.18.0->tensorflow<2.19,>=2.18->tf_keras) (1.14.1)\n",
      "Requirement already satisfied: grpcio<2.0,>=1.24.3 in c:\\users\\sheetal\\anaconda3\\lib\\site-packages (from tensorflow-intel==2.18.0->tensorflow<2.19,>=2.18->tf_keras) (1.68.1)\n",
      "Requirement already satisfied: tensorboard<2.19,>=2.18 in c:\\users\\sheetal\\anaconda3\\lib\\site-packages (from tensorflow-intel==2.18.0->tensorflow<2.19,>=2.18->tf_keras) (2.18.0)\n",
      "Requirement already satisfied: keras>=3.5.0 in c:\\users\\sheetal\\anaconda3\\lib\\site-packages (from tensorflow-intel==2.18.0->tensorflow<2.19,>=2.18->tf_keras) (3.7.0)\n",
      "Requirement already satisfied: numpy<2.1.0,>=1.26.0 in c:\\users\\sheetal\\anaconda3\\lib\\site-packages (from tensorflow-intel==2.18.0->tensorflow<2.19,>=2.18->tf_keras) (1.26.4)\n",
      "Requirement already satisfied: h5py>=3.11.0 in c:\\users\\sheetal\\anaconda3\\lib\\site-packages (from tensorflow-intel==2.18.0->tensorflow<2.19,>=2.18->tf_keras) (3.11.0)\n",
      "Requirement already satisfied: ml-dtypes<0.5.0,>=0.4.0 in c:\\users\\sheetal\\anaconda3\\lib\\site-packages (from tensorflow-intel==2.18.0->tensorflow<2.19,>=2.18->tf_keras) (0.4.1)\n",
      "Requirement already satisfied: wheel<1.0,>=0.23.0 in c:\\users\\sheetal\\anaconda3\\lib\\site-packages (from astunparse>=1.6.0->tensorflow-intel==2.18.0->tensorflow<2.19,>=2.18->tf_keras) (0.43.0)\n",
      "Requirement already satisfied: rich in c:\\users\\sheetal\\anaconda3\\lib\\site-packages (from keras>=3.5.0->tensorflow-intel==2.18.0->tensorflow<2.19,>=2.18->tf_keras) (13.3.5)\n",
      "Requirement already satisfied: namex in c:\\users\\sheetal\\anaconda3\\lib\\site-packages (from keras>=3.5.0->tensorflow-intel==2.18.0->tensorflow<2.19,>=2.18->tf_keras) (0.0.8)\n",
      "Requirement already satisfied: optree in c:\\users\\sheetal\\anaconda3\\lib\\site-packages (from keras>=3.5.0->tensorflow-intel==2.18.0->tensorflow<2.19,>=2.18->tf_keras) (0.13.1)\n",
      "Requirement already satisfied: charset-normalizer<4,>=2 in c:\\users\\sheetal\\anaconda3\\lib\\site-packages (from requests<3,>=2.21.0->tensorflow-intel==2.18.0->tensorflow<2.19,>=2.18->tf_keras) (2.0.4)\n",
      "Requirement already satisfied: idna<4,>=2.5 in c:\\users\\sheetal\\anaconda3\\lib\\site-packages (from requests<3,>=2.21.0->tensorflow-intel==2.18.0->tensorflow<2.19,>=2.18->tf_keras) (3.7)\n",
      "Requirement already satisfied: urllib3<3,>=1.21.1 in c:\\users\\sheetal\\anaconda3\\lib\\site-packages (from requests<3,>=2.21.0->tensorflow-intel==2.18.0->tensorflow<2.19,>=2.18->tf_keras) (2.2.2)\n",
      "Requirement already satisfied: certifi>=2017.4.17 in c:\\users\\sheetal\\anaconda3\\lib\\site-packages (from requests<3,>=2.21.0->tensorflow-intel==2.18.0->tensorflow<2.19,>=2.18->tf_keras) (2024.7.4)\n",
      "Requirement already satisfied: markdown>=2.6.8 in c:\\users\\sheetal\\anaconda3\\lib\\site-packages (from tensorboard<2.19,>=2.18->tensorflow-intel==2.18.0->tensorflow<2.19,>=2.18->tf_keras) (3.4.1)\n",
      "Requirement already satisfied: tensorboard-data-server<0.8.0,>=0.7.0 in c:\\users\\sheetal\\anaconda3\\lib\\site-packages (from tensorboard<2.19,>=2.18->tensorflow-intel==2.18.0->tensorflow<2.19,>=2.18->tf_keras) (0.7.2)\n",
      "Requirement already satisfied: werkzeug>=1.0.1 in c:\\users\\sheetal\\anaconda3\\lib\\site-packages (from tensorboard<2.19,>=2.18->tensorflow-intel==2.18.0->tensorflow<2.19,>=2.18->tf_keras) (3.0.3)\n",
      "Requirement already satisfied: MarkupSafe>=2.1.1 in c:\\users\\sheetal\\anaconda3\\lib\\site-packages (from werkzeug>=1.0.1->tensorboard<2.19,>=2.18->tensorflow-intel==2.18.0->tensorflow<2.19,>=2.18->tf_keras) (2.1.3)\n",
      "Requirement already satisfied: markdown-it-py<3.0.0,>=2.2.0 in c:\\users\\sheetal\\anaconda3\\lib\\site-packages (from rich->keras>=3.5.0->tensorflow-intel==2.18.0->tensorflow<2.19,>=2.18->tf_keras) (2.2.0)\n",
      "Requirement already satisfied: pygments<3.0.0,>=2.13.0 in c:\\users\\sheetal\\anaconda3\\lib\\site-packages (from rich->keras>=3.5.0->tensorflow-intel==2.18.0->tensorflow<2.19,>=2.18->tf_keras) (2.15.1)\n",
      "Requirement already satisfied: mdurl~=0.1 in c:\\users\\sheetal\\anaconda3\\lib\\site-packages (from markdown-it-py<3.0.0,>=2.2.0->rich->keras>=3.5.0->tensorflow-intel==2.18.0->tensorflow<2.19,>=2.18->tf_keras) (0.1.0)\n",
      "Downloading tf_keras-2.18.0-py3-none-any.whl (1.7 MB)\n",
      "   ---------------------------------------- 0.0/1.7 MB ? eta -:--:--\n",
      "   ------------ --------------------------- 0.5/1.7 MB 10.9 MB/s eta 0:00:01\n",
      "   ------------------------------- -------- 1.3/1.7 MB 14.2 MB/s eta 0:00:01\n",
      "   ---------------------------------------- 1.7/1.7 MB 15.7 MB/s eta 0:00:00\n",
      "Installing collected packages: tf_keras\n",
      "Successfully installed tf_keras-2.18.0\n"
     ]
    }
   ],
   "source": [
    "# !pip install tensorflow\n",
    "# !pip install tensorflow_probability\n",
    "# !pip install tf_keras"
   ]
  },
  {
   "cell_type": "code",
   "execution_count": 1,
   "id": "f2b96e05-55e3-481b-b23c-f790a438db71",
   "metadata": {},
   "outputs": [
    {
     "name": "stdout",
     "output_type": "stream",
     "text": [
      "WARNING:tensorflow:From C:\\Users\\Sheetal\\anaconda3\\Lib\\site-packages\\alibi\\explainers\\cem.py:35: The name tf.Session is deprecated. Please use tf.compat.v1.Session instead.\n",
      "\n",
      "WARNING:tensorflow:From C:\\Users\\Sheetal\\anaconda3\\Lib\\site-packages\\tf_keras\\src\\losses.py:2976: The name tf.losses.sparse_softmax_cross_entropy is deprecated. Please use tf.compat.v1.losses.sparse_softmax_cross_entropy instead.\n",
      "\n",
      "WARNING:tensorflow:From C:\\Users\\Sheetal\\anaconda3\\Lib\\site-packages\\tensorflow_probability\\python\\internal\\backend\\numpy\\_utils.py:48: The name tf.logging.TaskLevelStatusMessage is deprecated. Please use tf.compat.v1.logging.TaskLevelStatusMessage instead.\n",
      "\n"
     ]
    }
   ],
   "source": [
    "import alibi\n",
    "from alibi_detect.cd import ChiSquareDrift, TabularDrift\n",
    "from alibi_detect.saving import save_detector, load_detector"
   ]
  },
  {
   "cell_type": "code",
   "execution_count": 3,
   "id": "53f99248-2d54-4cdf-ae13-00c44e8bc30d",
   "metadata": {},
   "outputs": [],
   "source": [
    "import pandas as pd\n",
    "import numpy as np\n",
    "import matplotlib.pyplot as plt\n",
    "import seaborn as sn"
   ]
  },
  {
   "cell_type": "markdown",
   "id": "e29bd719-89f6-4ce1-af1a-f4cdc47e1d40",
   "metadata": {},
   "source": [
    "#### Reading Training and Production datasets from Git repo"
   ]
  },
  {
   "cell_type": "code",
   "execution_count": 5,
   "id": "f41af0e3-265b-497b-a1c0-7b41e232accf",
   "metadata": {},
   "outputs": [],
   "source": [
    "# Setting up the urls for training and Test Dataset\n",
    "\n",
    "ftr_trn_url = 'https://raw.githubusercontent.com/swarnkarnitin/MLOps/Main/Datasets/features_train.parquet'\n",
    "ftr_prd_url = 'https://raw.githubusercontent.com/swarnkarnitin/MLOps/Main/Datasets/features_prod.parquet'\n",
    "tgt_trn_url = 'https://raw.githubusercontent.com/swarnkarnitin/MLOps/Main/Datasets/target_train.parquet'\n",
    "tgt_prd_url = 'https://raw.githubusercontent.com/swarnkarnitin/MLOps/Main/Datasets/target_prod.parquet'\n",
    "\n",
    "# Reading dataset from Git\n",
    "ftr_trn_df = pd.read_parquet(ftr_trn_url, engine='auto')\n",
    "ftr_prd_df = pd.read_parquet(ftr_prd_url, engine='auto')\n",
    "tgt_trn_df = pd.read_parquet(tgt_trn_url, engine='auto')\n",
    "tgt_prd_df = pd.read_parquet(tgt_prd_url, engine='auto')"
   ]
  },
  {
   "cell_type": "code",
   "execution_count": 28,
   "id": "8db846ce-e6aa-43f9-9107-7d718dfc336c",
   "metadata": {},
   "outputs": [
    {
     "data": {
      "text/plain": [
       "['age', 'sex', 'bmi', 'children', 'smoker', 'region']"
      ]
     },
     "execution_count": 28,
     "metadata": {},
     "output_type": "execute_result"
    }
   ],
   "source": [
    "# Creating column list\n",
    "x_features = list(ftr_trn_df.columns)\n",
    "x_features"
   ]
  },
  {
   "cell_type": "code",
   "execution_count": 45,
   "id": "844ac43f-5109-4b43-97f3-b6a8e879e06f",
   "metadata": {},
   "outputs": [],
   "source": [
    "#Defining the index of categorical features\n",
    "cat_vars = [1, 4, 5]"
   ]
  },
  {
   "cell_type": "code",
   "execution_count": 43,
   "id": "0d2d756b-550d-44e5-95f8-371953b8b705",
   "metadata": {},
   "outputs": [],
   "source": [
    "\n",
    "categories_per_feature = {f: None for f in cat_vars}"
   ]
  },
  {
   "cell_type": "code",
   "execution_count": 49,
   "id": "dd137fad-fa3d-4c71-9b9a-9749e2dda98b",
   "metadata": {},
   "outputs": [
    {
     "data": {
      "text/plain": [
       "{1: None, 4: None, 5: None}"
      ]
     },
     "execution_count": 49,
     "metadata": {},
     "output_type": "execute_result"
    }
   ],
   "source": [
    "# Preparing the dictionay of categorical features\n",
    "categories_per_feature"
   ]
  },
  {
   "cell_type": "markdown",
   "id": "8ec1ecbe-1db5-4c07-aaa8-025666134d56",
   "metadata": {},
   "source": [
    "#### Measuring drift"
   ]
  },
  {
   "cell_type": "code",
   "execution_count": 13,
   "id": "737e45b6-b825-40be-9bfb-b512ed938640",
   "metadata": {},
   "outputs": [],
   "source": [
    "# Calling Tabular drift function at 0.05 cut-off\n",
    "cd = TabularDrift(ftr_trn_df.values,\n",
    "                  p_val=.05,\n",
    "                  categories_per_feature=categories_per_feature)"
   ]
  },
  {
   "cell_type": "code",
   "execution_count": 15,
   "id": "a792271c-caef-45ce-ba71-581407de93de",
   "metadata": {},
   "outputs": [
    {
     "name": "stderr",
     "output_type": "stream",
     "text": [
      "Directory insurancedrift does not exist and is now created.\n"
     ]
    }
   ],
   "source": [
    "import dill\n",
    "import tensorflow\n",
    "from tensorflow.keras.layers import Input, InputLayer\n",
    "\n",
    "#Creating folder to save the drift\n",
    "filepath = 'insurancedrift'  # change to directory where detector is saved\n",
    "save_detector(cd, filepath, legacy = True)"
   ]
  },
  {
   "cell_type": "code",
   "execution_count": 18,
   "id": "35614a1b-24cc-4e3d-acea-ba35f8c5a5c5",
   "metadata": {},
   "outputs": [
    {
     "name": "stderr",
     "output_type": "stream",
     "text": [
      "No model found in insurancedrift\\model, setting `model` to `None`.\n"
     ]
    }
   ],
   "source": [
    "cd = load_detector(filepath)"
   ]
  },
  {
   "cell_type": "code",
   "execution_count": 22,
   "id": "1f6b88c1-8908-40aa-9211-ab3eee51a80c",
   "metadata": {},
   "outputs": [],
   "source": [
    "preds = cd.predict(ftr_prd_df.to_numpy())"
   ]
  },
  {
   "cell_type": "code",
   "execution_count": 30,
   "id": "e2335351-3b4e-4df5-a42e-6f13f83bc250",
   "metadata": {},
   "outputs": [
    {
     "name": "stdout",
     "output_type": "stream",
     "text": [
      "age -- K-S 0.054 -- p-value 0.584\n",
      "sex -- Chi2 0.001 -- p-value 0.973\n",
      "bmi -- K-S 0.053 -- p-value 0.599\n",
      "children -- K-S 0.025 -- p-value 0.999\n",
      "smoker -- Chi2 0.000 -- p-value 1.000\n",
      "region -- Chi2 8.172 -- p-value 0.043\n"
     ]
    }
   ],
   "source": [
    "#Setting drift measure as Chi for categorical feature and k-5 for numerical\n",
    "\n",
    "for f in range(cd.n_features):\n",
    "    stat = 'Chi2' if f in list(categories_per_feature.keys()) else 'K-S'\n",
    "    fname = x_features[f]\n",
    "    stat_val, p_val = preds['data']['distance'][f], preds['data']['p_val'][f]\n",
    "    print(f'{fname} -- {stat} {stat_val:.3f} -- p-value {p_val:.3f}')"
   ]
  },
  {
   "cell_type": "code",
   "execution_count": 34,
   "id": "56dd9e66-4e1b-4fc7-b590-5540100b2505",
   "metadata": {},
   "outputs": [
    {
     "data": {
      "text/plain": [
       "region\n",
       "southwest    214\n",
       "southeast    202\n",
       "northeast    201\n",
       "northwest    185\n",
       "Name: count, dtype: int64"
      ]
     },
     "execution_count": 34,
     "metadata": {},
     "output_type": "execute_result"
    }
   ],
   "source": [
    "ftr_trn_df.region.value_counts()"
   ]
  },
  {
   "cell_type": "code",
   "execution_count": 37,
   "id": "b09f9b4a-5a0f-49a9-84de-97b71f0e7a04",
   "metadata": {},
   "outputs": [
    {
     "data": {
      "text/plain": [
       "region\n",
       "southeast    81\n",
       "northwest    71\n",
       "northeast    66\n",
       "southwest    50\n",
       "Name: count, dtype: int64"
      ]
     },
     "execution_count": 37,
     "metadata": {},
     "output_type": "execute_result"
    }
   ],
   "source": [
    "ftr_prd_df.region.value_counts()"
   ]
  },
  {
   "cell_type": "code",
   "execution_count": 39,
   "id": "b902c944-b1f0-4c1a-8891-9e7c0ddd5167",
   "metadata": {},
   "outputs": [
    {
     "data": {
      "text/plain": [
       "smoker\n",
       "no     637\n",
       "yes    165\n",
       "Name: count, dtype: int64"
      ]
     },
     "execution_count": 39,
     "metadata": {},
     "output_type": "execute_result"
    }
   ],
   "source": [
    "ftr_trn_df.smoker.value_counts()"
   ]
  },
  {
   "cell_type": "code",
   "execution_count": 41,
   "id": "74b8faf0-9f9b-4a72-b884-5bdde8701945",
   "metadata": {},
   "outputs": [
    {
     "data": {
      "text/plain": [
       "smoker\n",
       "no     213\n",
       "yes     55\n",
       "Name: count, dtype: int64"
      ]
     },
     "execution_count": 41,
     "metadata": {},
     "output_type": "execute_result"
    }
   ],
   "source": [
    "ftr_prd_df.smoker.value_counts()"
   ]
  }
 ],
 "metadata": {
  "kernelspec": {
   "display_name": "Python 3 (ipykernel)",
   "language": "python",
   "name": "python3"
  },
  "language_info": {
   "codemirror_mode": {
    "name": "ipython",
    "version": 3
   },
   "file_extension": ".py",
   "mimetype": "text/x-python",
   "name": "python",
   "nbconvert_exporter": "python",
   "pygments_lexer": "ipython3",
   "version": "3.12.4"
  }
 },
 "nbformat": 4,
 "nbformat_minor": 5
}
